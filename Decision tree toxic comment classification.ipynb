{
 "cells": [
  {
   "cell_type": "code",
   "execution_count": 1,
   "id": "ff6d898f",
   "metadata": {},
   "outputs": [],
   "source": [
    "import pandas as pd\n",
    "from sklearn.feature_extraction.text import CountVectorizer\n",
    "from sklearn.model_selection import train_test_split\n",
    "from sklearn.naive_bayes import MultinomialNB\n",
    "from sklearn.metrics import accuracy_score\n",
    "from sklearn.feature_extraction.text import TfidfVectorizer\n",
    "from sklearn.metrics import classification_report\n",
    "import nltk\n",
    "from nltk.corpus import stopwords\n",
    "from nltk.tokenize import word_tokenize\n",
    "from sklearn import svm\n",
    "from sklearn.ensemble import RandomForestClassifier\n",
    "from imblearn.over_sampling import SMOTE\n",
    "from collections import Counter"
   ]
  },
  {
   "cell_type": "code",
   "execution_count": 2,
   "id": "e1a2c58f",
   "metadata": {},
   "outputs": [
    {
     "name": "stdout",
     "output_type": "stream",
     "text": [
      "(153164, 2)\n",
      "(153164, 8)\n"
     ]
    }
   ],
   "source": [
    "df_test = pd.read_csv(\"toxic_test.csv\")\n",
    "df_test_l = pd.read_csv(\"toxic_labels.csv\").replace(-1,0)\n",
    "print(df_test.shape)\n",
    "df_test = pd.merge(df_test, df_test_l, how=\"left\", on = \"id\")\n",
    "print(df_test.shape)"
   ]
  },
  {
   "cell_type": "code",
   "execution_count": 3,
   "id": "36a8a82e",
   "metadata": {},
   "outputs": [
    {
     "name": "stdout",
     "output_type": "stream",
     "text": [
      "(159571, 8)\n",
      "(312735, 8)\n"
     ]
    }
   ],
   "source": [
    "df = pd.read_csv(\"toxic_train.csv\")\n",
    "print(df.shape)\n",
    "df = pd.concat([df, df_test])\n",
    "print(df.shape)\n",
    "del df_test"
   ]
  },
  {
   "cell_type": "code",
   "execution_count": 4,
   "id": "2c6d6372",
   "metadata": {},
   "outputs": [],
   "source": [
    "from nltk.tokenize import word_tokenize\n",
    "from nltk.corpus import stopwords\n",
    "import re\n",
    "import pandas as pd\n",
    "\n",
    "def preprocess_text(comment_text):\n",
    "    \n",
    "    \n",
    "    # Remove links\n",
    "    comment_text = re.sub(r'http\\S+', '', comment_text)\n",
    "    comment_text = comment_text.replace('\\n', ' ')\n",
    "    \n",
    "    # Additional text cleaning\n",
    "    comment_text = comment_text.lower()\n",
    "    comment_text = re.sub(r\"what's\", \"what is \", comment_text)\n",
    "    comment_text = re.sub(r\"\\'s\", \" \", comment_text)\n",
    "    comment_text = re.sub(r\"\\'ve\", \" have \", comment_text)\n",
    "    comment_text = re.sub(r\"can't\", \"cannot \", comment_text)\n",
    "    comment_text = re.sub(r\"n't\", \" not \", comment_text)\n",
    "    comment_text = re.sub(r\"i'm\", \"i am \", comment_text)\n",
    "    comment_text = re.sub(r\"\\'re\", \" are \", comment_text)\n",
    "    comment_text = re.sub(r\"\\'d\", \" would \", comment_text)\n",
    "    comment_text = re.sub(r\"\\'ll\", \" will \", comment_text)\n",
    "    comment_text = re.sub(r\"\\'scuse\", \" excuse \", comment_text)\n",
    "    comment_text = re.sub('\\W', ' ', comment_text)\n",
    "    comment_text = re.sub('\\s+', ' ', comment_text)\n",
    "    comment_text = comment_text.strip(' ')\n",
    "\n",
    "    # Tokenize the text\n",
    "    words = word_tokenize(comment_text)\n",
    "    \n",
    "    # Remove digits\n",
    "    words = [word for word in words if not word.isdigit()]\n",
    "    \n",
    "    # Remove stopwords\n",
    "    stop_words = set(stopwords.words('english'))\n",
    "    words = [word for word in words if word not in stop_words]\n",
    "    \n",
    "    # Join the words back into a string\n",
    "    cleaned_text = ' '.join(words)\n",
    "    \n",
    "    return cleaned_text\n",
    "\n",
    "\n",
    "\n",
    "\n",
    "\n"
   ]
  },
  {
   "cell_type": "code",
   "execution_count": 5,
   "id": "c6d36a0c",
   "metadata": {},
   "outputs": [
    {
     "name": "stdout",
     "output_type": "stream",
     "text": [
      "Counter({0: 203228, 1: 15686})\n"
     ]
    }
   ],
   "source": [
    "from imblearn.under_sampling import RandomUnderSampler\n",
    "df['cleaned_text'] = df['comment_text'].apply(preprocess_text)\n",
    "\n",
    "# Split the data into input features and target variable\n",
    "df['y'] = (df[['toxic', 'severe_toxic', 'obscene', 'threat', 'insult', 'identity_hate']].sum(axis=1) > 0).astype(int)\n",
    "df = df[['comment_text', 'y']].rename(columns={'comment_text': 'text'})\n",
    "\n",
    "tfidf_vectorizer = TfidfVectorizer(max_features=5000)\n",
    "X = tfidf_vectorizer.fit_transform(df['text'])\n",
    "\n",
    "\n",
    "y = df['y']\n",
    "\n",
    "# Split the data into training and testing sets\n",
    "X_train, X_test, y_train, y_test = train_test_split(X, y, test_size=0.3, random_state=42)\n",
    "\n",
    "#undersampler = RandomUnderSampler(sampling_strategy='auto', random_state=42)\n",
    "#X_resampled, y_resampled = undersampler.fit_resample(X_train, y_train)\n",
    "\n",
    "\n",
    "from imblearn.over_sampling import SMOTE\n",
    "from collections import Counter\n",
    "os = SMOTE()\n",
    "X_Otrain, y_Otrain = os.fit_resample(X_train, y_train)\n",
    "count = Counter(y_train)\n",
    "print(count)\n",
    "\n"
   ]
  },
  {
   "cell_type": "code",
   "execution_count": 6,
   "id": "02ab1165",
   "metadata": {},
   "outputs": [
    {
     "name": "stdout",
     "output_type": "stream",
     "text": [
      "Best Hyperparameters: {'splitter': 'best', 'min_samples_split': 2, 'min_samples_leaf': 2, 'max_depth': 200, 'criterion': 'gini'}\n",
      "Best Estimator: DecisionTreeClassifier(max_depth=200, min_samples_leaf=2)\n",
      "Test Accuracy: 0.8719156691998593\n"
     ]
    }
   ],
   "source": [
    "from sklearn.tree import DecisionTreeClassifier\n",
    "from sklearn.model_selection import RandomizedSearchCV\n",
    "dt_classifier = DecisionTreeClassifier()\n",
    "\n",
    "# Define the hyperparameter grid to search\n",
    "param_dist = {\n",
    "    'criterion': ['gini', 'entropy'],\n",
    "    'splitter': ['best', 'random'],\n",
    "    'max_depth': [100,200],\n",
    "    'min_samples_split': [2, 5, 10,20],\n",
    "    'min_samples_leaf': [1, 2, 4,8],\n",
    "}\n",
    "#dt_classifier = DecisionTreeClassifier(criterion= \"gini\", max_depth= 400, min_samples_split=2, min_samples_leaf=2)\n",
    "\n",
    "\n",
    "# Create the RandomizedSearchCV object\n",
    "random_search = RandomizedSearchCV(estimator=dt_classifier, param_distributions=param_dist, n_iter=3, cv=5, scoring='accuracy', random_state=42,n_jobs=-1)\n",
    "\n",
    "# Fit the random search to the data\n",
    "random_search.fit(X_Otrain, y_Otrain)\n",
    "\n",
    "# Access the best estimator found\n",
    "best_dt_model = random_search.best_estimator_\n",
    "\n",
    "# You can use the best_dt_model for predictions\n",
    "y_pred = best_dt_model.predict(X_test)\n",
    "accuracy = accuracy_score(y_test, y_pred)\n",
    "\n",
    "# Print the best hyperparameters and best estimator\n",
    "print(\"Best Hyperparameters:\", random_search.best_params_)\n",
    "print(\"Best Estimator:\", best_dt_model)\n",
    "print(\"Test Accuracy:\", accuracy)"
   ]
  },
  {
   "cell_type": "code",
   "execution_count": 7,
   "id": "c00605f3",
   "metadata": {},
   "outputs": [
    {
     "name": "stdout",
     "output_type": "stream",
     "text": [
      "              precision    recall  f1-score   support\n",
      "\n",
      "           0       0.95      0.91      0.93     87039\n",
      "           1       0.25      0.38      0.30      6782\n",
      "\n",
      "    accuracy                           0.87     93821\n",
      "   macro avg       0.60      0.65      0.61     93821\n",
      "weighted avg       0.90      0.87      0.88     93821\n",
      "\n"
     ]
    }
   ],
   "source": [
    "from sklearn.metrics import classification_report\n",
    "best_dt_model = random_search.best_estimator_\n",
    "y_pred = best_dt_model.predict(X_test)\n",
    "print(classification_report(y_test, y_pred))"
   ]
  },
  {
   "cell_type": "code",
   "execution_count": 10,
   "id": "c5d1f771",
   "metadata": {},
   "outputs": [
    {
     "data": {
      "text/plain": [
       "0.9075423678211104"
      ]
     },
     "execution_count": 10,
     "metadata": {},
     "output_type": "execute_result"
    }
   ],
   "source": [
    "random_search.best_score_"
   ]
  },
  {
   "cell_type": "code",
   "execution_count": null,
   "id": "90968149",
   "metadata": {},
   "outputs": [],
   "source": []
  }
 ],
 "metadata": {
  "kernelspec": {
   "display_name": "Python 3 (ipykernel)",
   "language": "python",
   "name": "python3"
  },
  "language_info": {
   "codemirror_mode": {
    "name": "ipython",
    "version": 3
   },
   "file_extension": ".py",
   "mimetype": "text/x-python",
   "name": "python",
   "nbconvert_exporter": "python",
   "pygments_lexer": "ipython3",
   "version": "3.9.12"
  }
 },
 "nbformat": 4,
 "nbformat_minor": 5
}
